{
 "cells": [
  {
   "cell_type": "markdown",
   "id": "592d70d3",
   "metadata": {},
   "source": [
    "############ PYTHON OOPs QUESTIONS ##########"
   ]
  },
  {
   "cell_type": "markdown",
   "id": "830f46ff",
   "metadata": {},
   "source": [
    "Question = 1 >>> What is Object-Oriented Programming (OOP)?"
   ]
  },
  {
   "cell_type": "markdown",
   "id": "fbd8426d",
   "metadata": {},
   "source": [
    "Ans = Object-oriented programming (OOP) is a programming paradigm that uses \"objects\" and their interactions to design applications and computer programs. It's a way of structuring code by grouping data and methods into reusable, self-contained units called objects, which can then be used to create instances of a class. "
   ]
  },
  {
   "cell_type": "markdown",
   "id": "8ba65641",
   "metadata": {},
   "source": [
    "Question = 2 >>> What is a class in OOP?"
   ]
  },
  {
   "cell_type": "markdown",
   "id": "25b311f1",
   "metadata": {},
   "source": [
    "Ans = In Object-Oriented Programming (OOP), a class is a blueprint or template that defines the structure and behavior of objects. It acts as a container for data (attributes or variables) and actions (methods or functions) that are common to all instances of a specific type of object. "
   ]
  },
  {
   "cell_type": "markdown",
   "id": "1d9db939",
   "metadata": {},
   "source": [
    "Question = 3 >>> What is an object in OOP?"
   ]
  },
  {
   "cell_type": "markdown",
   "id": "8fa3ce9e",
   "metadata": {},
   "source": [
    "Ans = n Object-Oriented Programming (OOP), an object is a fundamental unit that represents a real-world entity or concept. It's an instance of a class, encapsulating both data (attributes) and behavior (methods). Objects interact with each other by sending and receiving messages, triggering methods and potentially modifying their internal state. "
   ]
  },
  {
   "cell_type": "markdown",
   "id": "b32eff37",
   "metadata": {},
   "source": [
    "Question = 4 >>> What is the difference between abstraction and encapsulation?"
   ]
  },
  {
   "cell_type": "markdown",
   "id": "d1d220be",
   "metadata": {},
   "source": [
    "Ans =  Abstraction focuses on hiding complex implementation details and showing only the essential features to the user, while encapsulation bundles data and methods into a single unit (like a class) and controls their access. In essence, abstraction is about what something does, and encapsulation is about how it's done and how it's accessed. "
   ]
  },
  {
   "cell_type": "markdown",
   "id": "e91b1b04",
   "metadata": {},
   "source": [
    "Question = 5 >>> What are dunder methods in Python?"
   ]
  },
  {
   "cell_type": "markdown",
   "id": "cf5420ed",
   "metadata": {},
   "source": [
    "Ans = Dunder methods, also known as magic methods, are special methods in Python that begin and end with double underscores (e.g., __init__, __str__, __len__). They provide a way to define how objects of a class should behave with built-in operators and functions. These methods enable operator overloading, allowing custom classes to support operations like addition, subtraction, comparison, and more."
   ]
  },
  {
   "cell_type": "markdown",
   "id": "cf54b37a",
   "metadata": {},
   "source": [
    "Question = 6 >>> Explain the concept of inheritance in OOP ?"
   ]
  },
  {
   "cell_type": "markdown",
   "id": "ec89988c",
   "metadata": {},
   "source": [
    "Ans = In Object-Oriented Programming (OOP), inheritance is a mechanism that allows a class (the child or subclass) to inherit properties and methods from another class (the parent or superclass). This enables code reusability and a hierarchical organization of classes, fostering a more structured and modular design. "
   ]
  },
  {
   "cell_type": "markdown",
   "id": "57388988",
   "metadata": {},
   "source": [
    "Question = 7 >>> What is polymorphism in OOP?"
   ]
  },
  {
   "cell_type": "markdown",
   "id": "6b4a41b1",
   "metadata": {},
   "source": [
    "Ans = In Object-Oriented Programming (OOP), polymorphism allows objects of different classes to be treated as objects of a common superclass, meaning they can have the same method name but different implementations. This enables code reuse and flexibility by allowing multiple classes to respond to a common method call in distinct ways. Polymorphism is a core concept in OOP, alongside inheritance and encapsulation. "
   ]
  },
  {
   "cell_type": "markdown",
   "id": "a86c7699",
   "metadata": {},
   "source": [
    "Question = 8 >>> How is encapsulation achieved in Python?"
   ]
  },
  {
   "cell_type": "markdown",
   "id": "8535af6b",
   "metadata": {},
   "source": [
    "Ans = Encapsulation in Python is achieved by restricting access to attributes and methods, effectively hiding the internal state of an object and preventing unintended external modifications. It is implemented using access modifiers and property decorators."
   ]
  },
  {
   "cell_type": "markdown",
   "id": "ec8f1301",
   "metadata": {},
   "source": [
    "Question = 9 >>> What is a constructor in Python ?"
   ]
  },
  {
   "cell_type": "markdown",
   "id": "73f10c6e",
   "metadata": {},
   "source": [
    "Ans = A constructor in Python is a special method used to initialize objects of a class. It is automatically called when an object is created. The constructor's primary purpose is to set up the initial state of the object by assigning values to its attributes. In Python, the constructor is named __init__. "
   ]
  },
  {
   "cell_type": "code",
   "execution_count": 8,
   "id": "f5f29a42",
   "metadata": {},
   "outputs": [
    {
     "name": "stdout",
     "output_type": "stream",
     "text": [
      "Buddy\n",
      "Golden Retriever\n",
      "Woof!\n"
     ]
    }
   ],
   "source": [
    "class Dog:\n",
    "    def __init__(self, name, breed):\n",
    "        self.name = name\n",
    "        self.breed = breed\n",
    "\n",
    "    def bark(self):\n",
    "        print(\"Woof!\")\n",
    "\n",
    "my_dog = Dog(\"Buddy\", \"Golden Retriever\")\n",
    "print(my_dog.name)\n",
    "print(my_dog.breed)\n",
    "my_dog.bark()"
   ]
  },
  {
   "cell_type": "markdown",
   "id": "5034a70c",
   "metadata": {},
   "source": [
    "Question = 10 >>> What are class and static methods in Python ?"
   ]
  },
  {
   "cell_type": "markdown",
   "id": "ad82bb63",
   "metadata": {},
   "source": [
    "Ans = In Python, class and static methods are special types of methods that are bound to a class rather than an instance of a class. They are defined using the @classmethod and @staticmethod decorators, respectively.\n",
    "\n",
    "Class methods\n",
    "\n",
    "take the class itself as the first argument, conventionally named cls. They can access and modify class-level attributes and are often used as factory methods for creating instances of the class.\n",
    "\n",
    "Static methods\n",
    "\n",
    "do not take any implicit first argument and behave like regular functions defined within the class's namespace. They cannot access or modify class or instance state and are typically used for utility functions that are related to the class but don't depend on its specific attributes."
   ]
  },
  {
   "cell_type": "markdown",
   "id": "e82e2afb",
   "metadata": {},
   "source": [
    "Question = 11 >>> What is method overloading in Python ?"
   ]
  },
  {
   "cell_type": "markdown",
   "id": "1adce3f2",
   "metadata": {},
   "source": [
    "Ans = Method overloading in Python refers to the ability to define multiple methods with the same name within a class, but with different parameters. Python does not support traditional method overloading like in some other languages (e.g., Java, C++), where the correct method to call is determined at compile time based on the number and types of arguments. Instead, Python achieves a similar effect through default arguments and variable-length argument lists. "
   ]
  },
  {
   "cell_type": "code",
   "execution_count": 9,
   "id": "5cebaec1",
   "metadata": {},
   "outputs": [
    {
     "name": "stdout",
     "output_type": "stream",
     "text": [
      "One argument: hello\n",
      "Two arguments: hello world\n",
      "Two arguments: None hello\n"
     ]
    }
   ],
   "source": [
    "class MyClass:\n",
    "    def my_method(self, arg1, arg2=None):\n",
    "        if arg2 is None:\n",
    "            print(\"One argument:\", arg1)\n",
    "        else:\n",
    "            print(\"Two arguments:\", arg1, arg2)\n",
    "\n",
    "obj = MyClass()\n",
    "obj.my_method(\"hello\")\n",
    "obj.my_method(\"hello\", \"world\")\n",
    "\n",
    "class MyClass2:\n",
    "    def my_method(*args):\n",
    "        if len(args) == 2:\n",
    "            print(\"One argument:\", args[1])\n",
    "        elif len(args) == 3:\n",
    "            print(\"Two arguments:\", args[1], args[2])\n",
    "\n",
    "obj2 = MyClass2()\n",
    "obj2.my_method(None, \"hello\")\n",
    "obj2.my_method(None, \"hello\", \"world\")"
   ]
  },
  {
   "cell_type": "markdown",
   "id": "2252cecb",
   "metadata": {},
   "source": [
    "Question = 12 >>> What is method overriding in OOP ?"
   ]
  },
  {
   "cell_type": "markdown",
   "id": "0c3869e4",
   "metadata": {},
   "source": [
    "Aans = In Object-Oriented Programming (OOP), method overriding allows a subclass to provide a specific implementation of a method that is already defined in its parent class (superclass). This enables the subclass to modify or extend the method's behavior, ensuring the correct method is called based on the object's type, a key aspect of polymorphism. "
   ]
  },
  {
   "cell_type": "markdown",
   "id": "66ad18e6",
   "metadata": {},
   "source": [
    "Question = 13 >>> What is a property decorator in Python ?"
   ]
  },
  {
   "cell_type": "markdown",
   "id": "5ed80c80",
   "metadata": {},
   "source": [
    "Ans = In Python, a property decorator is a built-in feature that allows methods to be accessed like attributes. It provides a way to encapsulate the logic for getting, setting, and deleting an attribute within a class, while exposing it as a simple attribute. This enhances code readability and maintainability by abstracting away the underlying implementation details.\n",
    "A property decorator is defined using the @property syntax before a method definition. It can also include setter and deleter methods, denoted by @attribute.setter and @attribute.deleter respectively, where \"attribute\" is the name of the property."
   ]
  },
  {
   "cell_type": "code",
   "execution_count": 10,
   "id": "d321b0b7",
   "metadata": {},
   "outputs": [
    {
     "name": "stdout",
     "output_type": "stream",
     "text": [
      "5\n",
      "314.159\n"
     ]
    }
   ],
   "source": [
    "class Circle:\n",
    "    def __init__(self, radius):\n",
    "        self._radius = radius\n",
    "\n",
    "    @property\n",
    "    def radius(self):\n",
    "        return self._radius\n",
    "\n",
    "    @radius.setter\n",
    "    def radius(self, value):\n",
    "        if value >= 0:\n",
    "            self._radius = value\n",
    "        else:\n",
    "            raise ValueError(\"Radius cannot be negative\")\n",
    "\n",
    "    @property\n",
    "    def area(self):\n",
    "        return 3.14159 * (self._radius ** 2)\n",
    "\n",
    "# Example usage\n",
    "c = Circle(5)\n",
    "print(c.radius)  # Access radius as an attribute\n",
    "c.radius = 10    # Set radius using the setter\n",
    "print(c.area)    # Access area as an attribute\n"
   ]
  },
  {
   "cell_type": "markdown",
   "id": "d806ef16",
   "metadata": {},
   "source": [
    "Question = 14 >>> Why is polymorphism important in OOP ?"
   ]
  },
  {
   "cell_type": "markdown",
   "id": "77554381",
   "metadata": {},
   "source": [
    "Ans = Polymorphism is crucial in Object-Oriented Programming (OOP) because it enables code reuse, flexibility, and extensibility. It allows objects of different classes to be treated as objects of a common type, simplifying code and making it easier to adapt to new situations. \n",
    "\n",
    "Here's why polymorphism is important:\n",
    "\n",
    "Code Reusability:\n",
    "\n",
    "Polymorphism allows you to use the same method name for different classes, reducing redundancy and promoting code reuse. \n",
    "\n",
    "Flexibility and Adaptability:\n",
    "\n",
    "It enables you to write generic code that can work with multiple types of objects without needing to know their specific classes, making your code more flexible and adaptable to changing requirements. \n",
    "\n",
    "Extensibility:\n",
    "\n",
    "Polymorphism makes it easy to add new classes to your code without having to modify existing code, as long as the new classes adhere to the same interface. \n",
    "\n",
    "Improved Readability:\n",
    "\n",
    "By using a single method name for different actions, polymorphism can improve the readability and maintainability of your code. \n",
    "\n",
    "Dynamic Method Dispatch:\n",
    "\n",
    "Polymorphism allows for dynamic method dispatch, where the specific method to be called is determined at runtime based on the object's actual type.\n",
    "\n",
    "Abstraction:\n",
    "\n",
    "Polymorphism allows you to work at a higher level of abstraction, dealing with objects of a common type without needing to know their specific implementation details. \n",
    "\n",
    "Reduced Conditional Statements:\n",
    "\n",
    "Polymorphism can replace multiple conditional statements (like if-else blocks) with a single method call, simplifying the code. "
   ]
  },
  {
   "cell_type": "markdown",
   "id": "57c196ab",
   "metadata": {},
   "source": [
    "Question = 15 >>> What is an abstract class in Python ?"
   ]
  },
  {
   "cell_type": "markdown",
   "id": "816dc1a5",
   "metadata": {},
   "source": [
    "Ans = An abstract class in Python is a class that cannot be instantiated directly and serves as a blueprint for other classes. It defines a common interface for its subclasses, ensuring they implement specific methods. Abstract classes are created using the abc module and the ABC class as a base. They may contain abstract methods, which are declared but not implemented in the abstract class. Subclasses are then required to provide concrete implementations for these abstract methods. "
   ]
  },
  {
   "cell_type": "code",
   "execution_count": 11,
   "id": "a0ba759c",
   "metadata": {},
   "outputs": [],
   "source": [
    "from abc import ABC, abstractmethod\n",
    "\n",
    "class Shape(ABC):\n",
    "    @abstractmethod\n",
    "    def area(self):\n",
    "        pass\n",
    "\n",
    "class Circle(Shape):\n",
    "    def __init__(self, radius):\n",
    "        self.radius = radius\n",
    "\n",
    "    def area(self):\n",
    "        return 3.14 * self.radius ** 2\n",
    "\n",
    "class Square(Shape):\n",
    "    def __init__(self, side_length):\n",
    "        self.side_length = side_length\n",
    "\n",
    "    def area(self):\n",
    "        return self.side_length ** 2"
   ]
  },
  {
   "cell_type": "code",
   "execution_count": 13,
   "id": "c29a4d8d",
   "metadata": {},
   "outputs": [],
   "source": [
    "cir = Circle(10)"
   ]
  },
  {
   "cell_type": "code",
   "execution_count": 16,
   "id": "8915ccac",
   "metadata": {},
   "outputs": [
    {
     "data": {
      "text/plain": [
       "314.0"
      ]
     },
     "execution_count": 16,
     "metadata": {},
     "output_type": "execute_result"
    }
   ],
   "source": [
    "cir.area()"
   ]
  },
  {
   "cell_type": "markdown",
   "id": "48188d91",
   "metadata": {},
   "source": [
    "Question = 16 >>> What are the advantages of OOP ?"
   ]
  },
  {
   "cell_type": "markdown",
   "id": "3cbf3872",
   "metadata": {},
   "source": [
    "Ans = Object-oriented programming (OOP) offers numerous advantages that make it a popular choice for software development. These benefits include improved code organization, reusability, and maintainability, as well as enhanced security and scalability. OOP promotes a modular and structured approach to problem-solving, making it easier to debug, modify, and extend software. \n",
    "\n",
    "Here's a more detailed look at the key advantages:\n",
    "\n",
    "1. Modularity and Organization:\n",
    "\n",
    "2. Reusability and Inheritance:\n",
    "\n",
    "3. Flexibility and Polymorphism:\n",
    "\n",
    "4. Enhanced Problem-Solving:\n",
    "\n",
    "5. Scalability and Adaptability:\n",
    "\n",
    "6. Improved Security: \n",
    "\n",
    "7. Easier Debugging and Troubleshooting: \n",
    "\n",
    "8. Enhanced Productivity: "
   ]
  },
  {
   "cell_type": "markdown",
   "id": "caa456d6",
   "metadata": {},
   "source": [
    "Question = 17 >>> What is the difference between a class variable and an instance variable ?"
   ]
  },
  {
   "cell_type": "markdown",
   "id": "9aa9a598",
   "metadata": {},
   "source": [
    "Ans = Class variables are shared by all instances (objects) of a class, while instance variables are unique to each instance. Class variables are typically used to store data that is the same across all objects of that class, like a constant or shared value. Instance variables are used to store data that is specific to each individual object. \n",
    "\n",
    "Here's a more detailed breakdown: \n",
    "\n",
    "\n",
    "##########Class Variables (Static Variables):\n",
    "\n",
    "\n",
    "Exist at the class level, not tied to a specific object.\n",
    "\n",
    "Shared by all instances of the class.\n",
    "\n",
    "Only one copy of the variable exists for the entire class.\n",
    "\n",
    "Accessed using the class name (e.g., ClassName.variableName).\n",
    "\n",
    "\n",
    "#########Instance Variables (Non-Static Variables):\n",
    "\n",
    "\n",
    "Exist at the object level.\n",
    "\n",
    "Each instance of the class has its own copy of the instance variable.\n",
    "\n",
    "Accessed using object references (e.g., objectName.variableName). "
   ]
  },
  {
   "cell_type": "markdown",
   "id": "d1b18895",
   "metadata": {},
   "source": [
    "Question = 18 >>> What is multiple inheritance in Python ?"
   ]
  },
  {
   "cell_type": "markdown",
   "id": "800aa0dc",
   "metadata": {},
   "source": [
    "Ans = Multiple inheritance in Python is a feature where a class can inherit attributes and methods from multiple parent classes. This allows a class to combine functionalities from different sources, creating more complex and versatile class structures. When a class inherits from multiple parents, it gains access to all the methods and attributes of those parent classes."
   ]
  },
  {
   "cell_type": "code",
   "execution_count": 17,
   "id": "a2cdc8f1",
   "metadata": {},
   "outputs": [
    {
     "name": "stdout",
     "output_type": "stream",
     "text": [
      "Method 1 from Parent1\n",
      "Method 2 from Parent2\n",
      "Method 3 from Child\n"
     ]
    }
   ],
   "source": [
    "class Parent1:\n",
    "    def method_1(self):\n",
    "        print(\"Method 1 from Parent1\")\n",
    "\n",
    "class Parent2:\n",
    "    def method_2(self):\n",
    "        print(\"Method 2 from Parent2\")\n",
    "\n",
    "class Child(Parent1, Parent2):\n",
    "    def method_3(self):\n",
    "        print(\"Method 3 from Child\")\n",
    "\n",
    "# Creating an instance of the Child class\n",
    "child_instance = Child()\n",
    "\n",
    "# Calling methods from both parent classes and the child class\n",
    "child_instance.method_1()  # Output: Method 1 from Parent1\n",
    "child_instance.method_2()  # Output: Method 2 from Parent2\n",
    "child_instance.method_3()  # Output: Method 3 from Child"
   ]
  },
  {
   "cell_type": "markdown",
   "id": "188e41e9",
   "metadata": {},
   "source": [
    "Question = 19 >>> Explain the purpose of ‘’__str__’ and ‘__repr__’ ‘ methods in Python ?"
   ]
  },
  {
   "cell_type": "markdown",
   "id": "d505d35a",
   "metadata": {},
   "source": [
    "Ans = In Python, __str__ and __repr__ are special methods used to define how objects are represented as strings. They are essential for providing informative and user-friendly output when working with custom classes. \n",
    "\n",
    "__str__: This method returns a human-readable string representation of an object. It is called by the built-in str() function and implicitly when using print() on an object. The primary goal of __str__ is to provide a user-friendly output, focusing on readability and clarity.\n",
    "\n",
    "__repr__: This method returns a more technical and unambiguous string representation of an object. It is called by the built-in repr() function and is also used in the interactive interpreter when an object is evaluated. The main purpose of __repr__ is to provide a string representation that, ideally, can be used to recreate the object. It is often used for debugging and logging purposes."
   ]
  },
  {
   "cell_type": "code",
   "execution_count": 19,
   "id": "acb6037f",
   "metadata": {},
   "outputs": [
    {
     "name": "stdout",
     "output_type": "stream",
     "text": [
      "'The Lord of the Rings' by J.R.R. Tolkien\n",
      "Book(title='The Lord of the Rings', author='J.R.R. Tolkien')\n"
     ]
    }
   ],
   "source": [
    "class Book:\n",
    "    def __init__(self, title, author):\n",
    "        self.title = title\n",
    "        self.author = author\n",
    "\n",
    "    def __str__(self):\n",
    "        return f\"'{self.title}' by {self.author}\"\n",
    "\n",
    "    def __repr__(self):\n",
    "        return f\"Book(title='{self.title}', author='{self.author}')\"\n",
    "\n",
    "book = Book(\"The Lord of the Rings\", \"J.R.R. Tolkien\")\n",
    "\n",
    "print(str(book))  \n",
    "print(repr(book))  "
   ]
  },
  {
   "cell_type": "markdown",
   "id": "c06b9c56",
   "metadata": {},
   "source": [
    "Question = 20 >>> What is the significance of the ‘super()’ function in Python ?"
   ]
  },
  {
   "cell_type": "markdown",
   "id": "042600aa",
   "metadata": {},
   "source": [
    "Ans = The super() function in Python is used to call methods from a parent class in a subclass. It plays a crucial role in inheritance, allowing subclasses to extend and modify the behavior of their parent classes while reusing code. \n",
    "\n",
    "super() is especially useful in the following scenarios:\n",
    "\n",
    "Calling the parent class constructor:\n",
    "\n",
    "When a subclass needs to initialize attributes inherited from the parent class, super().__init__() ensures that the parent class's constructor is called.\n",
    "\n",
    "Overriding methods:\n",
    "\n",
    "If a subclass overrides a method from the parent class, super().method_name() allows the subclass to call the original method from the parent class, extending its functionality instead of completely replacing it.\n",
    "\n",
    "Multiple inheritance:\n",
    "\n",
    "In complex inheritance hierarchies, super() helps resolve method resolution order (MRO) and ensures that methods are called in the correct sequence."
   ]
  },
  {
   "cell_type": "code",
   "execution_count": 21,
   "id": "a47dc7bb",
   "metadata": {},
   "outputs": [
    {
     "name": "stdout",
     "output_type": "stream",
     "text": [
      "Buddy\n",
      "Golden Retriever\n",
      "Generic animal sound\n",
      "Woof!\n"
     ]
    }
   ],
   "source": [
    "class Animal:\n",
    "    def __init__(self, name):\n",
    "        self.name = name\n",
    " \n",
    "\n",
    "    def speak(self):\n",
    "        print(\"Generic animal sound\")\n",
    " \n",
    "\n",
    "class Dog(Animal):\n",
    "    def __init__(self, name, breed):\n",
    "        super().__init__(name)\n",
    "        self.breed = breed\n",
    " \n",
    "\n",
    "    def speak(self):\n",
    "        super().speak()\n",
    "        print(\"Woof!\")\n",
    " \n",
    "\n",
    "my_dog = Dog(\"Buddy\", \"Golden Retriever\")\n",
    "print(my_dog.name)\n",
    "print(my_dog.breed)\n",
    "my_dog.speak()"
   ]
  },
  {
   "cell_type": "markdown",
   "id": "535515f0",
   "metadata": {},
   "source": [
    "Question = 21 >>> What is the significance of the __del__ method in Python ?"
   ]
  },
  {
   "cell_type": "markdown",
   "id": "a0f4505f",
   "metadata": {},
   "source": [
    "Ans = The __del__ method in Python, also known as a destructor, is called when an object is garbage collected, after all references to the object have been deleted. Its primary significance lies in its ability to perform cleanup actions before an object is removed from memory. These actions can include releasing external resources like file handles or network connections. \n",
    "\n",
    "However, relying on __del__ for critical cleanup is generally discouraged due to its unpredictable timing. The garbage collector's behavior is not deterministic, meaning __del__ might not be called immediately when an object is no longer needed, or even at all before the program exits.\n",
    "\n",
    "It is recommended to use context managers (with statement) or explicit close() methods for resource management, as they provide more control and predictability. __del__ can be useful for non-critical cleanup tasks or for debugging purposes, but should not be the sole mechanism for releasing important resources."
   ]
  },
  {
   "cell_type": "markdown",
   "id": "bd4b50cc",
   "metadata": {},
   "source": [
    "Question = 22 >>> What is the difference between @staticmethod and @classmethod in Python ?"
   ]
  },
  {
   "cell_type": "markdown",
   "id": "b7ea821f",
   "metadata": {},
   "source": [
    "Ans = The key difference between @staticmethod and @classmethod lies in their interaction with the class and its instances:\n",
    "\n",
    "@staticmethod:\n",
    "\n",
    "It is a function defined inside a class, but it does not receive the class or instance as an implicit first argument.\n",
    "\n",
    "It behaves like a regular function, but it is logically associated with the class.\n",
    "\n",
    "It cannot access or modify the class or instance state.\n",
    "\n",
    "It is used for utility functions that are related to the class but do not depend on its specific instances.\n",
    "\n",
    "@classmethod:\n",
    "\n",
    "It receives the class itself as the first argument, conventionally named cls.\n",
    "\n",
    "It can access and modify class-level attributes.\n",
    "\n",
    "It cannot modify instance-specific attributes.\n",
    "\n",
    "It is used for factory methods, which create instances of the class, or for operations that involve the class as a whole."
   ]
  },
  {
   "cell_type": "code",
   "execution_count": 22,
   "id": "580dbe29",
   "metadata": {},
   "outputs": [
    {
     "name": "stdout",
     "output_type": "stream",
     "text": [
      "New Value\n"
     ]
    }
   ],
   "source": [
    "class MyClass:\n",
    "    class_variable = \"Class Variable\"\n",
    "\n",
    "    def __init__(self, instance_variable):\n",
    "        self.instance_variable = instance_variable\n",
    "\n",
    "    @staticmethod\n",
    "    def static_method(arg1, arg2):\n",
    "        # Cannot access self or cls\n",
    "        return arg1 + arg2\n",
    "    \n",
    "    @classmethod\n",
    "    def class_method(cls, arg):\n",
    "        # Can access and modify cls\n",
    "        cls.class_variable = arg\n",
    "        return cls.class_variable\n",
    "\n",
    "# Calling static method\n",
    "result = MyClass.static_method(5, 3)  # Output: 8\n",
    "\n",
    "# Calling class method\n",
    "MyClass.class_method(\"New Value\")\n",
    "print(MyClass.class_variable)"
   ]
  },
  {
   "cell_type": "markdown",
   "id": "634c1ca5",
   "metadata": {},
   "source": [
    "Question = 23 >>> How does polymorphism work in Python with inheritance ?"
   ]
  },
  {
   "cell_type": "markdown",
   "id": "e5548336",
   "metadata": {},
   "source": [
    "Ans = Polymorphism, meaning \"many forms,\" allows objects of different classes to respond to the same method call in their own specific ways. When combined with inheritance in Python, polymorphism enables a child class to redefine or override methods inherited from its parent class. This is known as method overriding.\n",
    "\n",
    "When a method is called on an object, Python checks the object's class for the method's definition. If the method is not found, Python searches the parent class and its ancestors in the inheritance hierarchy. If a method with the same name exists in both the parent and child classes, the child class's version is executed, effectively \"overriding\" the parent's version. This mechanism allows for specialized behavior in subclasses while maintaining a common interface defined by the parent class."
   ]
  },
  {
   "cell_type": "code",
   "execution_count": 23,
   "id": "97aa0ffc",
   "metadata": {},
   "outputs": [
    {
     "name": "stdout",
     "output_type": "stream",
     "text": [
      "Woof!\n",
      "Meow!\n"
     ]
    }
   ],
   "source": [
    "class Animal:\n",
    "    def sound(self):\n",
    "        return \"Generic animal sound\"\n",
    "\n",
    "class Dog(Animal):\n",
    "    def sound(self):\n",
    "        return \"Woof!\"\n",
    "\n",
    "class Cat(Animal):\n",
    "    def sound(self):\n",
    "        return \"Meow!\"\n",
    "\n",
    "def animal_sound(animal):\n",
    "    return animal.sound()\n",
    "\n",
    "dog = Dog()\n",
    "cat = Cat()\n",
    "print(animal_sound(dog))\n",
    "print(animal_sound(cat))"
   ]
  },
  {
   "cell_type": "markdown",
   "id": "3b6e9bf3",
   "metadata": {},
   "source": [
    "Question = 24 >>> What is method chaining in Python OOP ?"
   ]
  },
  {
   "cell_type": "markdown",
   "id": "ce73770e",
   "metadata": {},
   "source": [
    "Ans = Method chaining in Python is a programming technique used in object-oriented programming where multiple methods are called sequentially on the same object in a single statement. This is achieved by having each method in the chain return the object itself (typically using return self). This approach enhances code readability and conciseness by avoiding the need for intermediate variables.\n",
    "\n",
    "To implement method chaining, each method in the class should return self after performing its operation. This allows the next method in the chain to be called immediately on the same object instance."
   ]
  },
  {
   "cell_type": "code",
   "execution_count": 24,
   "id": "21a74932",
   "metadata": {},
   "outputs": [
    {
     "name": "stdout",
     "output_type": "stream",
     "text": [
      "24\n"
     ]
    }
   ],
   "source": [
    "class Calculator:\n",
    "    def __init__(self, value=0):\n",
    "        self.value = value\n",
    "\n",
    "    def add(self, num):\n",
    "        self.value += num\n",
    "        return self\n",
    "\n",
    "    def subtract(self, num):\n",
    "        self.value -= num\n",
    "        return self\n",
    "\n",
    "    def multiply(self, num):\n",
    "        self.value *= num\n",
    "        return self\n",
    "\n",
    "    def get_value(self):\n",
    "        return self.value\n",
    "\n",
    "# Example of method chaining\n",
    "calc = Calculator(10)\n",
    "result = calc.add(5).subtract(3).multiply(2).get_value()\n",
    "print(result) "
   ]
  },
  {
   "cell_type": "markdown",
   "id": "c1b40c94",
   "metadata": {},
   "source": [
    "Question = 25 >>> What is the purpose of the __call__ method in Python ? "
   ]
  },
  {
   "cell_type": "markdown",
   "id": "b142c45e",
   "metadata": {},
   "source": [
    "Ans = The __call__ method in Python enables instances of a class to be called like regular functions. When a class defines the __call__ method, its instances become callable objects. This means that you can apply the function call syntax () to an instance of the class, triggering the execution of the code within the __call__ method"
   ]
  },
  {
   "cell_type": "code",
   "execution_count": 26,
   "id": "5a42638a",
   "metadata": {},
   "outputs": [
    {
     "name": "stdout",
     "output_type": "stream",
     "text": [
      "1\n",
      "2\n",
      "3\n"
     ]
    }
   ],
   "source": [
    "class Counter:\n",
    "    def __init__(self):\n",
    "        self.count = 0\n",
    "\n",
    "    def __call__(self):\n",
    "        self.count += 1\n",
    "        return self.count\n",
    "\n",
    "# Creating an instance of the Counter class\n",
    "my_counter = Counter()\n",
    "\n",
    "# Calling the instance like a function\n",
    "\n",
    "print(my_counter())  \n",
    "print(my_counter())  \n",
    "print(my_counter())  "
   ]
  },
  {
   "cell_type": "markdown",
   "id": "9cbded4c",
   "metadata": {},
   "source": [
    "########## PRACTICAL QUESTIONS ##########"
   ]
  },
  {
   "cell_type": "markdown",
   "id": "6b52e79d",
   "metadata": {},
   "source": [
    "Question = 1 >>> Create a parent class Animal with a method speak() that prints a generic message. Create a child class Dog\n",
    "that overrides the speak() method to print \"Bark!\" ?"
   ]
  },
  {
   "cell_type": "code",
   "execution_count": 27,
   "id": "3106cc10",
   "metadata": {},
   "outputs": [
    {
     "name": "stdout",
     "output_type": "stream",
     "text": [
      "The animal makes a sound.\n",
      "Bark!\n"
     ]
    }
   ],
   "source": [
    "# Parent class\n",
    "class Animal:\n",
    "    def speak(self):\n",
    "        print(\"The animal makes a sound.\")\n",
    "\n",
    "# Child class\n",
    "class Dog(Animal):\n",
    "    def speak(self):\n",
    "        print(\"Bark!\")\n",
    "\n",
    "# Example usage\n",
    "generic_animal = Animal()\n",
    "generic_animal.speak()  \n",
    "\n",
    "dog = Dog()\n",
    "dog.speak()  \n"
   ]
  },
  {
   "cell_type": "markdown",
   "id": "a98abcab",
   "metadata": {},
   "source": [
    "Question = 2 >>> Write a program to create an abstract class Shape with a method area(). Derive classes Circle and Rectangle\n",
    "from it and implement the area() method in both."
   ]
  },
  {
   "cell_type": "code",
   "execution_count": 28,
   "id": "61ca9484",
   "metadata": {},
   "outputs": [
    {
     "name": "stdout",
     "output_type": "stream",
     "text": [
      "Area of circle: 78.54\n",
      "Area of rectangle: 24.00\n"
     ]
    }
   ],
   "source": [
    "from abc import ABC, abstractmethod\n",
    "import math\n",
    "\n",
    "# Abstract base class\n",
    "class Shape(ABC):\n",
    "    @abstractmethod\n",
    "    def area(self):\n",
    "        pass\n",
    "\n",
    "# Derived class: Circle\n",
    "class Circle(Shape):\n",
    "    def __init__(self, radius):\n",
    "        self.radius = radius\n",
    "\n",
    "    def area(self):\n",
    "        return math.pi * self.radius ** 2\n",
    "\n",
    "# Derived class: Rectangle\n",
    "class Rectangle(Shape):\n",
    "    def __init__(self, width, height):\n",
    "        self.width = width\n",
    "        self.height = height\n",
    "\n",
    "    def area(self):\n",
    "        return self.width * self.height\n",
    "\n",
    "# Example usage\n",
    "circle = Circle(5)\n",
    "rectangle = Rectangle(4, 6)\n",
    "\n",
    "print(f\"Area of circle: {circle.area():.2f}\")     \n",
    "print(f\"Area of rectangle: {rectangle.area():.2f}\") \n"
   ]
  },
  {
   "cell_type": "markdown",
   "id": "110f3ff9",
   "metadata": {},
   "source": [
    "Question = 3 >>>  Implement a multi-level inheritance scenario where a class Vehicle has an attribute type. Derive a class Car\n",
    "and further derive a class ElectricCar that adds a battery attribute."
   ]
  },
  {
   "cell_type": "code",
   "execution_count": 29,
   "id": "cad18636",
   "metadata": {},
   "outputs": [
    {
     "name": "stdout",
     "output_type": "stream",
     "text": [
      "Vehicle type: Electric\n",
      "Car brand: Tesla\n",
      "Battery capacity: 75 kWh\n"
     ]
    }
   ],
   "source": [
    "# Base class\n",
    "class Vehicle:\n",
    "    def __init__(self, vehicle_type):\n",
    "        self.type = vehicle_type\n",
    "\n",
    "    def show_type(self):\n",
    "        print(f\"Vehicle type: {self.type}\")\n",
    "\n",
    "# Derived class from Vehicle\n",
    "class Car(Vehicle):\n",
    "    def __init__(self, vehicle_type, brand):\n",
    "        super().__init__(vehicle_type)\n",
    "        self.brand = brand\n",
    "\n",
    "    def show_brand(self):\n",
    "        print(f\"Car brand: {self.brand}\")\n",
    "\n",
    "# Further derived class from Car\n",
    "class ElectricCar(Car):\n",
    "    def __init__(self, vehicle_type, brand, battery_capacity):\n",
    "        super().__init__(vehicle_type, brand)\n",
    "        self.battery = battery_capacity\n",
    "\n",
    "    def show_battery(self):\n",
    "        print(f\"Battery capacity: {self.battery} kWh\")\n",
    "\n",
    "# Example usage\n",
    "my_electric_car = ElectricCar(\"Electric\", \"Tesla\", 75)\n",
    "my_electric_car.show_type()       \n",
    "my_electric_car.show_brand()      \n",
    "my_electric_car.show_battery()    \n"
   ]
  },
  {
   "cell_type": "markdown",
   "id": "6122a937",
   "metadata": {},
   "source": [
    "Question = 4 >>> Demonstrate polymorphism by creating a base class Bird with a method fly(). Create two derived classes\n",
    "Sparrow and Penguin that override the fly() method."
   ]
  },
  {
   "cell_type": "code",
   "execution_count": 31,
   "id": "e6cd511d",
   "metadata": {},
   "outputs": [
    {
     "name": "stdout",
     "output_type": "stream",
     "text": [
      "Sparrow flies high in the sky.\n",
      "Penguins can't fly, they swim.\n"
     ]
    }
   ],
   "source": [
    "# Base class\n",
    "class Bird:\n",
    "    def fly(self):\n",
    "        print(\"This bird can fly.\")\n",
    "\n",
    "# Derived class\n",
    "class Sparrow(Bird):\n",
    "    def fly(self):\n",
    "        print(\"Sparrow flies high in the sky.\")\n",
    "\n",
    "# Derived class\n",
    "class Penguin(Bird):\n",
    "    def fly(self):\n",
    "        print(\"Penguins can't fly, they swim.\")\n",
    "\n",
    "# Polymorphic behavior\n",
    "def bird_flight(bird):\n",
    "    bird.fly()\n",
    "\n",
    "# Example usage\n",
    "sparrow = Sparrow()\n",
    "penguin = Penguin()\n",
    "\n",
    "bird_flight(sparrow)\n",
    "bird_flight(penguin) \n"
   ]
  },
  {
   "cell_type": "markdown",
   "id": "a2a57148",
   "metadata": {},
   "source": [
    "Question = 5 >>> Write a program to demonstrate encapsulation by creating a class BankAccount with private attributes\n",
    "balance and methods to deposit, withdraw, and check balance."
   ]
  },
  {
   "cell_type": "code",
   "execution_count": 32,
   "id": "81c9a472",
   "metadata": {},
   "outputs": [
    {
     "name": "stdout",
     "output_type": "stream",
     "text": [
      "Deposited: $50\n",
      "Withdrew: $30\n",
      "Current balance: $120\n"
     ]
    }
   ],
   "source": [
    "class BankAccount:\n",
    "    def __init__(self, initial_balance=0):\n",
    "        self.__balance = initial_balance  # Private attribute\n",
    "\n",
    "    # Method to deposit money\n",
    "    def deposit(self, amount):\n",
    "        if amount > 0:\n",
    "            self.__balance += amount\n",
    "            print(f\"Deposited: ${amount}\")\n",
    "        else:\n",
    "            print(\"Deposit amount must be positive.\")\n",
    "\n",
    "    # Method to withdraw money\n",
    "    def withdraw(self, amount):\n",
    "        if amount > 0 and amount <= self.__balance:\n",
    "            self.__balance -= amount\n",
    "            print(f\"Withdrew: ${amount}\")\n",
    "        else:\n",
    "            print(\"Insufficient balance or invalid amount.\")\n",
    "\n",
    "    # Method to check balance\n",
    "    def get_balance(self):\n",
    "        return self.__balance\n",
    "\n",
    "# Example usage\n",
    "account = BankAccount(100) \n",
    "account.deposit(50)        \n",
    "account.withdraw(30)        \n",
    "print(f\"Current balance: ${account.get_balance()}\")\n",
    "\n",
    "# Trying to access private attribute directly (not recommended)\n",
    "# print(account.__balance)  # This will raise an AttributeError\n"
   ]
  },
  {
   "cell_type": "markdown",
   "id": "8f4031ca",
   "metadata": {},
   "source": [
    "Question = 6 >>>  Demonstrate runtime polymorphism using a method play() in a base class Instrument. Derive classes Guitar\n",
    "and Piano that implement their own version of play()."
   ]
  },
  {
   "cell_type": "code",
   "execution_count": 33,
   "id": "0cc3727b",
   "metadata": {},
   "outputs": [
    {
     "name": "stdout",
     "output_type": "stream",
     "text": [
      "Strumming the guitar.\n",
      "Playing the piano keys.\n"
     ]
    }
   ],
   "source": [
    "# Base class\n",
    "class Instrument:\n",
    "    def play(self):\n",
    "        print(\"Playing an instrument.\")\n",
    "\n",
    "# Derived class\n",
    "class Guitar(Instrument):\n",
    "    def play(self):\n",
    "        print(\"Strumming the guitar.\")\n",
    "\n",
    "# Derived class\n",
    "class Piano(Instrument):\n",
    "    def play(self):\n",
    "        print(\"Playing the piano keys.\")\n",
    "\n",
    "# Function to demonstrate runtime polymorphism\n",
    "def perform(instrument):\n",
    "    instrument.play()\n",
    "\n",
    "# Example usage\n",
    "guitar = Guitar()\n",
    "piano = Piano()\n",
    "\n",
    "perform(guitar)  \n",
    "perform(piano)   \n"
   ]
  },
  {
   "cell_type": "markdown",
   "id": "6e216dd2",
   "metadata": {},
   "source": [
    "Question = 7 >>> Create a class MathOperations with a class method add_numbers() to add two numbers and a static\n",
    "method subtract_numbers() to subtract two numbers..."
   ]
  },
  {
   "cell_type": "code",
   "execution_count": 34,
   "id": "6bfef761",
   "metadata": {},
   "outputs": [
    {
     "name": "stdout",
     "output_type": "stream",
     "text": [
      "Sum: 15\n",
      "Difference: 5\n"
     ]
    }
   ],
   "source": [
    "class MathOperations:\n",
    "    @classmethod\n",
    "    def add_numbers(cls, a, b):\n",
    "        return a + b\n",
    "\n",
    "    @staticmethod\n",
    "    def subtract_numbers(a, b):\n",
    "        return a - b\n",
    "\n",
    "# Example usage\n",
    "sum_result = MathOperations.add_numbers(10, 5)\n",
    "difference_result = MathOperations.subtract_numbers(10, 5)\n",
    "\n",
    "print(f\"Sum: {sum_result}\")          \n",
    "print(f\"Difference: {difference_result}\")  \n"
   ]
  },
  {
   "cell_type": "markdown",
   "id": "a233e71b",
   "metadata": {},
   "source": [
    "Question = 8 >>>  Implement a class Person with a class method to count the total number of persons created."
   ]
  },
  {
   "cell_type": "code",
   "execution_count": 36,
   "id": "2175c7d9",
   "metadata": {},
   "outputs": [
    {
     "name": "stdout",
     "output_type": "stream",
     "text": [
      "Total persons created: 3\n"
     ]
    }
   ],
   "source": [
    "class Person:\n",
    "    count = 0  # Class variable to track number of persons\n",
    "\n",
    "    def __init__(self, name):\n",
    "        self.name = name\n",
    "        Person.count += 1  # Increment count when a new object is created\n",
    "\n",
    "    @classmethod\n",
    "    def total_persons(cls):\n",
    "        return cls.count\n",
    "\n",
    "# Example usage\n",
    "p1 = Person(\"Alice\")\n",
    "p2 = Person(\"Bob\")\n",
    "p3 = Person(\"Charlie\")\n",
    "\n",
    "print(f\"Total persons created: {Person.total_persons()}\") \n"
   ]
  },
  {
   "cell_type": "markdown",
   "id": "c72c66c9",
   "metadata": {},
   "source": [
    "Question = 9 >>> Write a class Fraction with attributes numerator and denominator. Override the str method to display the\n",
    "fraction as \"numerator/denominator\"."
   ]
  },
  {
   "cell_type": "code",
   "execution_count": 38,
   "id": "8c0cce18",
   "metadata": {},
   "outputs": [
    {
     "name": "stdout",
     "output_type": "stream",
     "text": [
      "3/4\n",
      "7/2\n"
     ]
    }
   ],
   "source": [
    "class Fraction:\n",
    "    def __init__(self, numerator, denominator):\n",
    "        if denominator == 0:\n",
    "            raise ValueError(\"Denominator cannot be zero.\")\n",
    "        self.numerator = numerator\n",
    "        self.denominator = denominator\n",
    "\n",
    "    def __str__(self):\n",
    "        return f\"{self.numerator}/{self.denominator}\"\n",
    "\n",
    "# Example usage\n",
    "f1 = Fraction(3, 4)\n",
    "f2 = Fraction(7, 2)\n",
    "\n",
    "print(f1)  \n",
    "print(f2)  \n"
   ]
  },
  {
   "cell_type": "markdown",
   "id": "4f108252",
   "metadata": {},
   "source": [
    "Question = 10 >>>  Demonstrate operator overloading by creating a class Vector and overriding the add method to add two\n",
    "vectors."
   ]
  },
  {
   "cell_type": "code",
   "execution_count": 39,
   "id": "0bfb09c4",
   "metadata": {},
   "outputs": [
    {
     "name": "stdout",
     "output_type": "stream",
     "text": [
      "Vector(6, 4)\n"
     ]
    }
   ],
   "source": [
    "class Vector:\n",
    "    def __init__(self, x, y):\n",
    "        self.x = x\n",
    "        self.y = y\n",
    "\n",
    "    # Overload the + operator\n",
    "    def __add__(self, other):\n",
    "        if isinstance(other, Vector):\n",
    "            return Vector(self.x + other.x, self.y + other.y)\n",
    "        return NotImplemented\n",
    "\n",
    "    def __str__(self):\n",
    "        return f\"Vector({self.x}, {self.y})\"\n",
    "\n",
    "# Example usage\n",
    "v1 = Vector(2, 3)\n",
    "v2 = Vector(4, 1)\n",
    "\n",
    "v3 = v1 + v2  # Uses overloaded __add__\n",
    "\n",
    "print(v3)  \n"
   ]
  },
  {
   "cell_type": "markdown",
   "id": "24a500a1",
   "metadata": {},
   "source": [
    "Question = 11 >>> Create a class Person with attributes name and age. Add a method greet() that prints \"Hello, my name is\n",
    "{name} and I am {age} years old.\""
   ]
  },
  {
   "cell_type": "code",
   "execution_count": 40,
   "id": "e36e0dd9",
   "metadata": {},
   "outputs": [
    {
     "name": "stdout",
     "output_type": "stream",
     "text": [
      "Hello, my name is Alice and I am 30 years old.\n"
     ]
    }
   ],
   "source": [
    "class Person:\n",
    "    def __init__(self, name, age):\n",
    "        self.name = name\n",
    "        self.age = age\n",
    "\n",
    "    def greet(self):\n",
    "        print(f\"Hello, my name is {self.name} and I am {self.age} years old.\")\n",
    "\n",
    "# Example usage\n",
    "person = Person(\"Alice\", 30)\n",
    "person.greet()  \n"
   ]
  },
  {
   "cell_type": "markdown",
   "id": "d4a48321",
   "metadata": {},
   "source": [
    "Question = 12 >>> Implement a class Student with attributes name and grades. Create a method average_grade() to compute\n",
    "the average of the grades."
   ]
  },
  {
   "cell_type": "code",
   "execution_count": 41,
   "id": "bec5f714",
   "metadata": {},
   "outputs": [
    {
     "name": "stdout",
     "output_type": "stream",
     "text": [
      "John's average grade is: 86.25\n"
     ]
    }
   ],
   "source": [
    "class Student:\n",
    "    def __init__(self, name, grades):\n",
    "        self.name = name\n",
    "        self.grades = grades  # Expected to be a list of numbers\n",
    "\n",
    "    def average_grade(self):\n",
    "        if not self.grades:\n",
    "            return 0  # Avoid division by zero if grades list is empty\n",
    "        return sum(self.grades) / len(self.grades)\n",
    "\n",
    "# Example usage\n",
    "student = Student(\"John\", [85, 90, 78, 92])\n",
    "print(f\"{student.name}'s average grade is: {student.average_grade():}\")\n"
   ]
  },
  {
   "cell_type": "markdown",
   "id": "0cba7ce2",
   "metadata": {},
   "source": [
    "Question = 13 >>> Create a class Rectangle with methods set_dimensions() to set the dimensions and area() to calculate the\n",
    "area."
   ]
  },
  {
   "cell_type": "code",
   "execution_count": 42,
   "id": "437094ab",
   "metadata": {},
   "outputs": [
    {
     "name": "stdout",
     "output_type": "stream",
     "text": [
      "Area of the rectangle: 40\n"
     ]
    }
   ],
   "source": [
    "class Rectangle:\n",
    "    def __init__(self):\n",
    "        self.width = 0\n",
    "        self.height = 0\n",
    "\n",
    "    def set_dimensions(self, width, height):\n",
    "        self.width = width\n",
    "        self.height = height\n",
    "\n",
    "    def area(self):\n",
    "        return self.width * self.height\n",
    "\n",
    "# Example usage\n",
    "rect = Rectangle()\n",
    "rect.set_dimensions(5, 8)\n",
    "print(f\"Area of the rectangle: {rect.area()}\") \n"
   ]
  },
  {
   "cell_type": "markdown",
   "id": "fa869612",
   "metadata": {},
   "source": [
    "Question = 14 >>> Create a class Employee with a method calculate_salary() that computes the salary based on hours worked\n",
    "and hourly rate. Create a derived class Manager that adds a bonus to the salary.\n"
   ]
  },
  {
   "cell_type": "code",
   "execution_count": 43,
   "id": "66177dcc",
   "metadata": {},
   "outputs": [
    {
     "name": "stdout",
     "output_type": "stream",
     "text": [
      "Employee Salary: $800\n",
      "Manager Salary: $1300\n"
     ]
    }
   ],
   "source": [
    "class Employee:\n",
    "    def __init__(self, hours_worked, hourly_rate):\n",
    "        self.hours_worked = hours_worked\n",
    "        self.hourly_rate = hourly_rate\n",
    "\n",
    "    def calculate_salary(self):\n",
    "        return self.hours_worked * self.hourly_rate\n",
    "\n",
    "class Manager(Employee):\n",
    "    def __init__(self, hours_worked, hourly_rate, bonus):\n",
    "        super().__init__(hours_worked, hourly_rate)\n",
    "        self.bonus = bonus\n",
    "\n",
    "    def calculate_salary(self):\n",
    "        base_salary = super().calculate_salary()\n",
    "        return base_salary + self.bonus\n",
    "\n",
    "# Example usage\n",
    "employee = Employee(40, 20)\n",
    "manager = Manager(40, 20, 500)\n",
    "\n",
    "print(f\"Employee Salary: ${employee.calculate_salary()}\")  \n",
    "print(f\"Manager Salary: ${manager.calculate_salary()}\")    \n"
   ]
  },
  {
   "cell_type": "markdown",
   "id": "a16ac504",
   "metadata": {},
   "source": [
    "Question = 15 >>> Create a class Product with attributes name, price, and quantity. Implement a method total_price() that\n",
    "calculates the total price of the product."
   ]
  },
  {
   "cell_type": "code",
   "execution_count": 44,
   "id": "7e09c6f5",
   "metadata": {},
   "outputs": [
    {
     "name": "stdout",
     "output_type": "stream",
     "text": [
      "Total price for 3 Laptops: $3600\n"
     ]
    }
   ],
   "source": [
    "class Product:\n",
    "    def __init__(self, name, price, quantity):\n",
    "        self.name = name\n",
    "        self.price = price\n",
    "        self.quantity = quantity\n",
    "\n",
    "    def total_price(self):\n",
    "        return self.price * self.quantity\n",
    "\n",
    "# Example usage\n",
    "product = Product(\"Laptop\", 1200, 3)\n",
    "print(f\"Total price for {product.quantity} {product.name}s: ${product.total_price()}\")\n"
   ]
  },
  {
   "cell_type": "markdown",
   "id": "81c33c6b",
   "metadata": {},
   "source": [
    "Question = 16 >>>  Create a class Animal with an abstract method sound(). Create two derived classes Cow and Sheep that\n",
    "implement the sound() method."
   ]
  },
  {
   "cell_type": "code",
   "execution_count": 45,
   "id": "730421ce",
   "metadata": {},
   "outputs": [
    {
     "name": "stdout",
     "output_type": "stream",
     "text": [
      "Moo\n",
      "Baa\n"
     ]
    }
   ],
   "source": [
    "from abc import ABC, abstractmethod\n",
    "\n",
    "class Animal(ABC):\n",
    "    @abstractmethod\n",
    "    def sound(self):\n",
    "        pass\n",
    "\n",
    "class Cow(Animal):\n",
    "    def sound(self):\n",
    "        print(\"Moo\")\n",
    "\n",
    "class Sheep(Animal):\n",
    "    def sound(self):\n",
    "        print(\"Baa\")\n",
    "\n",
    "# Example usage\n",
    "cow = Cow()\n",
    "sheep = Sheep()\n",
    "\n",
    "cow.sound()    \n",
    "sheep.sound()  \n"
   ]
  },
  {
   "cell_type": "markdown",
   "id": "da011db4",
   "metadata": {},
   "source": [
    "Question = 17 >>> Create a class Book with attributes title, author, and year_published. Add a method get_book_info() that\n",
    "returns a formatted string with the book's details."
   ]
  },
  {
   "cell_type": "code",
   "execution_count": 46,
   "id": "0aff052e",
   "metadata": {},
   "outputs": [
    {
     "name": "stdout",
     "output_type": "stream",
     "text": [
      "'1984 BOOK' by George Orwell, published in 1949\n"
     ]
    }
   ],
   "source": [
    "class Book:\n",
    "    def __init__(self, title, author, year_published):\n",
    "        self.title = title\n",
    "        self.author = author\n",
    "        self.year_published = year_published\n",
    "\n",
    "    def get_book_info(self):\n",
    "        return f\"'{self.title}' by {self.author}, published in {self.year_published}\"\n",
    "\n",
    "# Example usage\n",
    "book = Book(\"1984 BOOK\", \"George Orwell\", 1949)\n",
    "print(book.get_book_info())\n"
   ]
  },
  {
   "cell_type": "markdown",
   "id": "24a5cd4e",
   "metadata": {},
   "source": [
    "Question = 18 >>> Create a class House with attributes address and price. Create a derived class Mansion that adds an\n",
    "attribute number_of_rooms."
   ]
  },
  {
   "cell_type": "code",
   "execution_count": 47,
   "id": "daaa0fd6",
   "metadata": {},
   "outputs": [
    {
     "name": "stdout",
     "output_type": "stream",
     "text": [
      "Address: 123 Main St\n",
      "Price: $250000\n",
      "\n",
      "Address: 456 Luxury Rd\n",
      "Price: $2000000\n",
      "Number of rooms: 10\n"
     ]
    }
   ],
   "source": [
    "class House:\n",
    "    def __init__(self, address, price):\n",
    "        self.address = address\n",
    "        self.price = price\n",
    "\n",
    "    def display_info(self):\n",
    "        print(f\"Address: {self.address}\")\n",
    "        print(f\"Price: ${self.price}\")\n",
    "\n",
    "class Mansion(House):\n",
    "    def __init__(self, address, price, number_of_rooms):\n",
    "        super().__init__(address, price)\n",
    "        self.number_of_rooms = number_of_rooms\n",
    "\n",
    "    def display_info(self):\n",
    "        super().display_info()\n",
    "        print(f\"Number of rooms: {self.number_of_rooms}\")\n",
    "\n",
    "# Example usage\n",
    "house = House(\"123 Main St\", 250000)\n",
    "mansion = Mansion(\"456 Luxury Rd\", 2000000, 10)\n",
    "\n",
    "house.display_info()\n",
    "print()\n",
    "mansion.display_info()\n"
   ]
  },
  {
   "cell_type": "code",
   "execution_count": null,
   "id": "b6d5d4c9",
   "metadata": {},
   "outputs": [],
   "source": []
  }
 ],
 "metadata": {
  "kernelspec": {
   "display_name": "Python 3",
   "language": "python",
   "name": "python3"
  },
  "language_info": {
   "codemirror_mode": {
    "name": "ipython",
    "version": 3
   },
   "file_extension": ".py",
   "mimetype": "text/x-python",
   "name": "python",
   "nbconvert_exporter": "python",
   "pygments_lexer": "ipython3",
   "version": "3.13.3"
  }
 },
 "nbformat": 4,
 "nbformat_minor": 5
}
